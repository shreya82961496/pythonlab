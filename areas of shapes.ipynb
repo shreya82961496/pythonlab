{
 "cells": [
  {
   "cell_type": "code",
   "execution_count": 18,
   "id": "40c4fde2",
   "metadata": {},
   "outputs": [
    {
     "name": "stdout",
     "output_type": "stream",
     "text": [
      "circle\n",
      "enter the radius of the circle:3\n",
      "the area of the circle is: 28.26\n"
     ]
    }
   ],
   "source": [
    "    print(\"circle\")\n",
    "    r=int(input(\"enter the radius of the circle:\"))\n",
    "    pi=3.14\n",
    "    circ_area = pi*r**2\n",
    "    print(\"the area of the circle is:\" , circ_area)"
   ]
  },
  {
   "cell_type": "code",
   "execution_count": 19,
   "id": "f7d87656",
   "metadata": {},
   "outputs": [
    {
     "name": "stdout",
     "output_type": "stream",
     "text": [
      "rectangle\n",
      "enter the length of the rectangle:5\n",
      "enter the breadth of the rectangle:8\n",
      "the area of rectangle is: 40\n"
     ]
    }
   ],
   "source": [
    "print(\"rectangle\")\n",
    "l=int(input(\"enter the length of the rectangle:\"))\n",
    "b=int(input(\"enter the breadth of the rectangle:\"))\n",
    "rect_area=l*b\n",
    "print(\"the area of rectangle is:\",rect_area)"
   ]
  },
  {
   "cell_type": "code",
   "execution_count": 20,
   "id": "3bb7ad02",
   "metadata": {},
   "outputs": [
    {
     "name": "stdout",
     "output_type": "stream",
     "text": [
      "triangle\n",
      "enter the heigth of the triangle:4\n",
      "enter the breadth of the triangle:5\n",
      "the area of triangle is: 10.0\n"
     ]
    }
   ],
   "source": [
    "print(\"triangle\")\n",
    "h=int(input(\"enter the heigth of the triangle:\"))\n",
    "b=int(input(\"enter the breadth of the triangle:\"))\n",
    "tri_area=0.5*h*b\n",
    "print(\"the area of triangle is:\",tri_area)"
   ]
  },
  {
   "cell_type": "code",
   "execution_count": 22,
   "id": "4fa98529",
   "metadata": {},
   "outputs": [
    {
     "name": "stdout",
     "output_type": "stream",
     "text": [
      "circle\n",
      "enter the radius of the circle:3\n",
      "the perimeter of the circle is: 18.84\n"
     ]
    }
   ],
   "source": [
    "    print(\"circle\")\n",
    "    r=int(input(\"enter the radius of the circle:\"))\n",
    "    pi=3.14\n",
    "    circ_peri= pi*r*2\n",
    "    print(\"the perimeter of the circle is:\" , circ_peri)"
   ]
  },
  {
   "cell_type": "code",
   "execution_count": 24,
   "id": "acbc9624",
   "metadata": {},
   "outputs": [
    {
     "name": "stdout",
     "output_type": "stream",
     "text": [
      "rectangle\n",
      "enter the length of the rectangle:4\n",
      "enter the width of the rectangle:5\n",
      "the area of rectangle is: 18\n"
     ]
    }
   ],
   "source": [
    "print(\"rectangle\")\n",
    "l=int(input(\"enter the length of the rectangle:\"))\n",
    "w=int(input(\"enter the width of the rectangle:\"))\n",
    "rect_peri=2*(l+w)\n",
    "print(\"the area of rectangle is:\",rect_peri)"
   ]
  },
  {
   "cell_type": "code",
   "execution_count": 27,
   "id": "dffe7c84",
   "metadata": {},
   "outputs": [
    {
     "name": "stdout",
     "output_type": "stream",
     "text": [
      "Circle\n",
      "enter the radius of the circle:5\n",
      "the area of the circle is: 78.5\n",
      "Rectangle\n",
      "enter the length of the rectangle:4\n",
      "enter the breadth of the rectangle:6\n",
      "the area of rectangle is: 24\n",
      "Triangle\n",
      "enter the heigth of the triangle:7\n",
      "enter the breadth of the triangle:4\n",
      "the area of triangle is: 14.0\n"
     ]
    }
   ],
   "source": [
    "print(\"Circle\")\n",
    "r=int(input(\"enter the radius of the circle:\"))\n",
    "pi=3.14\n",
    "circ_area = pi*r**2\n",
    "print(\"the area of the circle is:\" , circ_area)\n",
    "\n",
    "print(\"Rectangle\")\n",
    "l=int(input(\"enter the length of the rectangle:\"))\n",
    "b=int(input(\"enter the breadth of the rectangle:\"))\n",
    "rect_area=l*b\n",
    "print(\"the area of rectangle is:\",rect_area)\n",
    "\n",
    "print(\"Triangle\")\n",
    "h=int(input(\"enter the heigth of the triangle:\"))\n",
    "b=int(input(\"enter the breadth of the triangle:\"))\n",
    "tri_area=0.5*h*b\n",
    "print(\"the area of triangle is:\",tri_area)"
   ]
  },
  {
   "cell_type": "code",
   "execution_count": 29,
   "id": "a3c0eba9",
   "metadata": {},
   "outputs": [
    {
     "name": "stdout",
     "output_type": "stream",
     "text": [
      "triangle\n",
      "enter the length of one side of the triangle:3\n",
      "enter the length of other side of the triangle:4\n",
      "enter the length of third side of the triangle:5\n",
      "the perimeter of triangle is: 12\n"
     ]
    }
   ],
   "source": [
    "print(\"triangle\")\n",
    "a=int(input(\"enter the length of one side of the triangle:\"))\n",
    "b=int(input(\"enter the length of other side of the triangle:\"))\n",
    "c=int(input(\"enter the length of third side of the triangle:\"))\n",
    "tri_peri=a+b+c\n",
    "print(\"the perimeter of triangle is:\",tri_peri)"
   ]
  },
  {
   "cell_type": "code",
   "execution_count": 30,
   "id": "a00a1356",
   "metadata": {},
   "outputs": [
    {
     "name": "stdout",
     "output_type": "stream",
     "text": [
      "circle\n",
      "enter the radius of the circle:3\n",
      "the perimeter of the circle is: 18.84\n",
      "rectangle\n",
      "enter the length of the rectangle:4\n",
      "enter the width of the rectangle:5\n",
      "the perimeter of rectangle is: 18\n",
      "triangle\n",
      "enter the length of one side of the triangle:6\n",
      "enter the length of other side of the triangle:7\n",
      "enter the length of third side of the triangle:8\n",
      "the perimeter of triangle is: 21\n"
     ]
    }
   ],
   "source": [
    "print(\"circle\")\n",
    "r=int(input(\"enter the radius of the circle:\"))\n",
    "pi=3.14\n",
    "circ_peri= pi*r*2\n",
    "print(\"the perimeter of the circle is:\" , circ_peri)\n",
    "\n",
    "print(\"rectangle\")\n",
    "l=int(input(\"enter the length of the rectangle:\"))\n",
    "w=int(input(\"enter the width of the rectangle:\"))\n",
    "rect_peri=2*(l+w)\n",
    "print(\"the perimeter of rectangle is:\",rect_peri)\n",
    "\n",
    "print(\"triangle\")\n",
    "a=int(input(\"enter the length of one side of the triangle:\"))\n",
    "b=int(input(\"enter the length of other side of the triangle:\"))\n",
    "c=int(input(\"enter the length of third side of the triangle:\"))\n",
    "tri_peri=a+b+c\n",
    "print(\"the perimeter of triangle is:\",tri_peri)"
   ]
  },
  {
   "cell_type": "code",
   "execution_count": 42,
   "id": "f5fd3889",
   "metadata": {},
   "outputs": [
    {
     "name": "stdout",
     "output_type": "stream",
     "text": [
      "Calculate Shape Area\n",
      "Enter the name of shape whose area you want to find: square\n",
      "Sorry! This shape is not available\n"
     ]
    }
   ],
   "source": [
    "def calculate_area(name):\n",
    "    name = name.lower()\n",
    "    if name == \"rectangle\":\n",
    "        l = int(input(\"Enter rectangle's length: \"))\n",
    "        b = int(input(\"Enter rectangle's breadth: \"))\n",
    "        rect_area = l * b \n",
    "        print(\"The area of rectangle is\",rect_area)\n",
    "\n",
    "    elif name == \"triangle\":\n",
    "        h = int(input(\"Enter triangle's height length: \"))\n",
    "        b = int(input(\"Enter triangle's breadth length: \"))\n",
    "        tri_area = 0.5 * b * h\n",
    "        print(\"The area of triangle is\",tri_area)\n",
    "\n",
    "    elif name == \"circle\":\n",
    "        r = int(input(\"Enter circle's radius length: \"))\n",
    "        pi = 3.14\n",
    "        circ_area = pi * r * r\n",
    "        print(\"The area of circle is\",circ_area)\n",
    "    else:\n",
    "        print(\"Sorry! This shape is not available\")\n",
    "if __name__ == \"__main__\" :\n",
    "    print(\"Calculate Shape Area\")\n",
    "    shape_name = input(\"Enter the name of shape whose area you want to find: \")\n",
    "    calculate_area(shape_name)\n"
   ]
  },
  {
   "cell_type": "code",
   "execution_count": null,
   "id": "d07cab8e",
   "metadata": {},
   "outputs": [],
   "source": []
  }
 ],
 "metadata": {
  "kernelspec": {
   "display_name": "Python 3 (ipykernel)",
   "language": "python",
   "name": "python3"
  },
  "language_info": {
   "codemirror_mode": {
    "name": "ipython",
    "version": 3
   },
   "file_extension": ".py",
   "mimetype": "text/x-python",
   "name": "python",
   "nbconvert_exporter": "python",
   "pygments_lexer": "ipython3",
   "version": "3.9.7"
  }
 },
 "nbformat": 4,
 "nbformat_minor": 5
}
